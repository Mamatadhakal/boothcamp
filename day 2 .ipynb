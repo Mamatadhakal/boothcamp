{
 "cells": [
  {
   "cell_type": "code",
   "execution_count": 4,
   "id": "e289a0ca-b6e3-4cc4-8cc1-5f94a370cf51",
   "metadata": {},
   "outputs": [
    {
     "name": "stdout",
     "output_type": "stream",
     "text": [
      "basics of python\n"
     ]
    }
   ],
   "source": [
    "print ('asics of python')"
   ]
  },
  {
   "cell_type": "code",
   "execution_count": 7,
   "id": "c09d702d-cd3b-4163-82aa-2560b012f0d2",
   "metadata": {},
   "outputs": [
    {
     "data": {
      "text/plain": [
       "10"
      ]
     },
     "execution_count": 7,
     "metadata": {},
     "output_type": "execute_result"
    }
   ],
   "source": [
    "#how to use numbers in python\n",
    ">>> 2+2"
   ]
  },
  {
   "cell_type": "code",
   "execution_count": 8,
   "id": "b24206e7-db64-4206-b451-8456c3e653b6",
   "metadata": {},
   "outputs": [
    {
     "data": {
      "text/plain": [
       "-150"
      ]
     },
     "execution_count": 8,
     "metadata": {},
     "output_type": "execute_result"
    }
   ],
   "source": [
    ">>> 50-40*5"
   ]
  },
  {
   "cell_type": "code",
   "execution_count": null,
   "id": "e3cf3e81-9a68-4097-8f41-82d1ca7e665e",
   "metadata": {},
   "outputs": [],
   "source": [
    "# the integer (int) number are 1, 3 , 5, whihc is any whole number \n",
    "# the float ar number which have decimal points (0.3, 4.1, 5.5)\n",
    "# division (/) always returns the float\n",
    "# to get the integrer result we have to use (//)\n",
    "# to calculate the reminder of the division we use %\n"
   ]
  },
  {
   "cell_type": "code",
   "execution_count": 14,
   "id": "795d8ebf-035f-4178-93fd-3fe87ffae67e",
   "metadata": {},
   "outputs": [
    {
     "data": {
      "text/plain": [
       "5.666666666666667"
      ]
     },
     "execution_count": 14,
     "metadata": {},
     "output_type": "execute_result"
    }
   ],
   "source": [
    "# for example\n",
    ">>> 17/3"
   ]
  },
  {
   "cell_type": "code",
   "execution_count": 10,
   "id": "62dd8528-f4c2-493c-bac5-6668cb224779",
   "metadata": {},
   "outputs": [
    {
     "data": {
      "text/plain": [
       "5"
      ]
     },
     "execution_count": 10,
     "metadata": {},
     "output_type": "execute_result"
    }
   ],
   "source": [
    "17//3"
   ]
  },
  {
   "cell_type": "code",
   "execution_count": 11,
   "id": "d46915a9-699a-46ec-bd1a-1d0111c91175",
   "metadata": {},
   "outputs": [
    {
     "data": {
      "text/plain": [
       "2"
      ]
     },
     "execution_count": 11,
     "metadata": {},
     "output_type": "execute_result"
    }
   ],
   "source": [
    "17%3"
   ]
  },
  {
   "cell_type": "code",
   "execution_count": 19,
   "id": "2f6ad23a-f450-44d7-9117-0864cfe13e72",
   "metadata": {},
   "outputs": [
    {
     "data": {
      "text/plain": [
       "125"
      ]
     },
     "execution_count": 19,
     "metadata": {},
     "output_type": "execute_result"
    }
   ],
   "source": [
    "# it is also possible to calculate the power by ** \n",
    ">>> 5 ** 3"
   ]
  },
  {
   "cell_type": "code",
   "execution_count": 20,
   "id": "6debf1b4-48af-499c-8177-ba8ccc8710cc",
   "metadata": {},
   "outputs": [
    {
     "data": {
      "text/plain": [
       "3125"
      ]
     },
     "execution_count": 20,
     "metadata": {},
     "output_type": "execute_result"
    }
   ],
   "source": [
    ">>> 5 ** 5"
   ]
  },
  {
   "cell_type": "code",
   "execution_count": 21,
   "id": "cd108f2c-1f92-4afc-be87-f66a68f23f5e",
   "metadata": {},
   "outputs": [
    {
     "data": {
      "text/plain": [
       "900"
      ]
     },
     "execution_count": 21,
     "metadata": {},
     "output_type": "execute_result"
    }
   ],
   "source": [
    "# the = is use to asssigh poer to the variable\n",
    ">>> width = 20\n",
    ">>> height = 5*9\n",
    ">>> width * height"
   ]
  },
  {
   "cell_type": "code",
   "execution_count": null,
   "id": "90b32ae0-e08b-42dc-acaa-f90cc66dd0ea",
   "metadata": {},
   "outputs": [],
   "source": [
    "# the text inside are called string ( str ) but it is inside (''). \n",
    "# if the number are also inside the semi colon it ia also a string\n",
    "# to quote a quotes with escape we can use \\, in the front of escape\n",
    "# or we can use double quote\n",
    "# for example"
   ]
  },
  {
   "cell_type": "code",
   "execution_count": 23,
   "id": "b056e636-79da-4911-985b-7b28f4cd2a3b",
   "metadata": {},
   "outputs": [
    {
     "name": "stdout",
     "output_type": "stream",
     "text": [
      "doesn't\n"
     ]
    }
   ],
   "source": [
    ">>> print ('doesn\\'t')"
   ]
  },
  {
   "cell_type": "code",
   "execution_count": 24,
   "id": "0b8a50e0-c339-4274-b551-7c5e29f60c9d",
   "metadata": {},
   "outputs": [
    {
     "name": "stdout",
     "output_type": "stream",
     "text": [
      " doesn't\n"
     ]
    }
   ],
   "source": [
    ">>> print (\" doesn't\")"
   ]
  },
  {
   "cell_type": "code",
   "execution_count": 25,
   "id": "e51df58f-6ceb-4faf-afb3-ecfc0e5eb11a",
   "metadata": {},
   "outputs": [
    {
     "name": "stdout",
     "output_type": "stream",
     "text": [
      "some\n",
      "thing\n"
     ]
    }
   ],
   "source": [
    "# to print new line use \\n\n",
    ">>> print ('some\\nthing') "
   ]
  },
  {
   "cell_type": "code",
   "execution_count": null,
   "id": "fa4d38c7-d019-4a68-9116-4b062f8abd57",
   "metadata": {},
   "outputs": [],
   "source": [
    "# string can be joined together with + or *\n",
    "# for example\n",
    "# if two strings are inclosed in quotes they are automatically connected, \n",
    "# it is important when breaking long strings"
   ]
  },
  {
   "cell_type": "code",
   "execution_count": 31,
   "id": "45c0fb75-40ec-4b01-8bda-866798ab9e27",
   "metadata": {},
   "outputs": [
    {
     "data": {
      "text/plain": [
       "'umumumium'"
      ]
     },
     "execution_count": 31,
     "metadata": {},
     "output_type": "execute_result"
    }
   ],
   "source": [
    ">>> 3 * 'um' + 'ium'"
   ]
  },
  {
   "cell_type": "code",
   "execution_count": 32,
   "id": "c4545ee3-f039-467d-827d-e9f76d279e9e",
   "metadata": {},
   "outputs": [
    {
     "data": {
      "text/plain": [
       "'pyth'"
      ]
     },
     "execution_count": 32,
     "metadata": {},
     "output_type": "execute_result"
    }
   ],
   "source": [
    ">>> 'py' 'th'"
   ]
  },
  {
   "cell_type": "code",
   "execution_count": 33,
   "id": "4b51a4f9-4028-4548-9985-d41ed144c3bf",
   "metadata": {},
   "outputs": [
    {
     "name": "stdout",
     "output_type": "stream",
     "text": [
      "my name is mamatai am learnig python\n"
     ]
    }
   ],
   "source": [
    "print ('my name is mamata' 'i am learnig python')"
   ]
  },
  {
   "cell_type": "code",
   "execution_count": null,
   "id": "5d820ff2-408f-43a1-9c90-3866ae662fe8",
   "metadata": {},
   "outputs": [],
   "source": [
    "# if the word is python the charecter in 0 position is p and 5th position is n"
   ]
  },
  {
   "cell_type": "code",
   "execution_count": 37,
   "id": "99ffb1c2-4591-4813-8c6b-cbfb65f88c97",
   "metadata": {},
   "outputs": [
    {
     "data": {
      "text/plain": [
       "'h'"
      ]
     },
     "execution_count": 37,
     "metadata": {},
     "output_type": "execute_result"
    }
   ],
   "source": [
    ">>> word = 'python'\n",
    ">>> word[3]"
   ]
  },
  {
   "cell_type": "code",
   "execution_count": 38,
   "id": "f5aac955-588f-47f2-b781-acd39667bae8",
   "metadata": {},
   "outputs": [
    {
     "data": {
      "text/plain": [
       "'n'"
      ]
     },
     "execution_count": 38,
     "metadata": {},
     "output_type": "execute_result"
    }
   ],
   "source": [
    ">>> word[-1] # last charecter "
   ]
  },
  {
   "cell_type": "code",
   "execution_count": 39,
   "id": "d1da532b-3417-4e2e-9121-e95d08c7b57c",
   "metadata": {},
   "outputs": [
    {
     "data": {
      "text/plain": [
       "'o'"
      ]
     },
     "execution_count": 39,
     "metadata": {},
     "output_type": "execute_result"
    }
   ],
   "source": [
    ">>> word[-2] # second last charectver"
   ]
  },
  {
   "cell_type": "code",
   "execution_count": 40,
   "id": "5933bf18-d9c0-4ae2-abfd-1b2b226e691a",
   "metadata": {},
   "outputs": [
    {
     "data": {
      "text/plain": [
       "'py'"
      ]
     },
     "execution_count": 40,
     "metadata": {},
     "output_type": "execute_result"
    }
   ],
   "source": [
    "# we can also slice the word python\n",
    ">>> word[0:2] # charecter from 0 position included to 2nd postion excluded"
   ]
  },
  {
   "cell_type": "code",
   "execution_count": 41,
   "id": "57d7aa67-5188-4032-9ef4-3447f6a56ee1",
   "metadata": {},
   "outputs": [
    {
     "data": {
      "text/plain": [
       "'py'"
      ]
     },
     "execution_count": 41,
     "metadata": {},
     "output_type": "execute_result"
    }
   ],
   "source": [
    ">>> word[:2] # charecter from beginning to positiom 2 excluded"
   ]
  },
  {
   "cell_type": "code",
   "execution_count": 42,
   "id": "a9ed7cc0-1caa-4468-9cf0-f947d9cdca0f",
   "metadata": {},
   "outputs": [
    {
     "data": {
      "text/plain": [
       "'on'"
      ]
     },
     "execution_count": 42,
     "metadata": {},
     "output_type": "execute_result"
    }
   ],
   "source": [
    ">>> word[4:] # charecter from 4 position to end "
   ]
  },
  {
   "cell_type": "code",
   "execution_count": 48,
   "id": "55ba91c4-2130-44ab-80aa-5c9c780d6ba1",
   "metadata": {},
   "outputs": [
    {
     "data": {
      "text/plain": [
       "[2, 4, 6, 8, 10]"
      ]
     },
     "execution_count": 48,
     "metadata": {},
     "output_type": "execute_result"
    }
   ],
   "source": [
    "# list of numer can be taken in [] and seperated by ,comma\n",
    ">>> square = [2,4,6,8,10]\n",
    ">>> square"
   ]
  },
  {
   "cell_type": "code",
   "execution_count": null,
   "id": "dd1328f8-6beb-448b-bd50-bdd846a3c7a5",
   "metadata": {},
   "outputs": [],
   "source": []
  }
 ],
 "metadata": {
  "kernelspec": {
   "display_name": "Python [conda env:base] *",
   "language": "python",
   "name": "conda-base-py"
  },
  "language_info": {
   "codemirror_mode": {
    "name": "ipython",
    "version": 3
   },
   "file_extension": ".py",
   "mimetype": "text/x-python",
   "name": "python",
   "nbconvert_exporter": "python",
   "pygments_lexer": "ipython3",
   "version": "3.12.7"
  }
 },
 "nbformat": 4,
 "nbformat_minor": 5
}
