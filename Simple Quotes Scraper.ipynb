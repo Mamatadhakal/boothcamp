{
 "cells": [
  {
   "cell_type": "code",
   "execution_count": 2,
   "id": "b0900721-9cb6-44f5-83e4-deb2328c336f",
   "metadata": {},
   "outputs": [
    {
     "ename": "SyntaxError",
     "evalue": "invalid syntax (2629520420.py, line 2)",
     "output_type": "error",
     "traceback": [
      "\u001b[1;36m  Cell \u001b[1;32mIn[2], line 2\u001b[1;36m\u001b[0m\n\u001b[1;33m    This notebook scrapes quotes from [quotes.toscrape.com](http://quotes.toscrape.com/) and saves them to a CSV file.\u001b[0m\n\u001b[1;37m         ^\u001b[0m\n\u001b[1;31mSyntaxError\u001b[0m\u001b[1;31m:\u001b[0m invalid syntax\n"
     ]
    }
   ],
   "source": [
    "#Simple Quotes ScraperThis notebook scrapes quotes from [quotes.toscrape.com](http://quotes.toscrape.com/) and saves them to a CSV file."
   ]
  },
  {
   "cell_type": "code",
   "execution_count": null,
   "id": "cc0335b9-42a2-4e18-b1e0-169859cf3580",
   "metadata": {},
   "outputs": [],
   "source": [
    "import requests\n",
    "from bs4 import BeautifulSoup\n",
    "import pandas as pd"
   ]
  },
  {
   "cell_type": "code",
   "execution_count": null,
   "id": "8319289f-a97f-47cb-ba4d-e0f81179e756",
   "metadata": {},
   "outputs": [],
   "source": [
    "url = \"http://quotes.toscrape.com/\"\n",
    "response = requests.get(url)\n",
    "soup = BeautifulSoup(response.text, \"html.parser\")"
   ]
  },
  {
   "cell_type": "code",
   "execution_count": null,
   "id": "faf5b0fb-973d-414b-aea3-2bfee22af619",
   "metadata": {},
   "outputs": [],
   "source": [
    "quotes_data = []\n",
    "quotes = soup.find_all(\"div\", class_=\"quote\")\n",
    "for quote in quotes:\n",
    "    text = quote.find(\"span\", class_=\"text\").get_text()\n",
    "    author = quote.find(\"small\", class_=\"author\").get_text()\n",
    "    quotes_data.append({\"quote\": text, \"author\": author})"
   ]
  },
  {
   "cell_type": "code",
   "execution_count": null,
   "id": "936b8b9e-bfec-4498-9cf8-11fb714d102d",
   "metadata": {},
   "outputs": [],
   "source": [
    "df = pd.DataFrame(quotes_data)\n",
    "df.head()"
   ]
  },
  {
   "cell_type": "code",
   "execution_count": null,
   "id": "ed351558-cdf3-4949-b77e-fb23059aa400",
   "metadata": {},
   "outputs": [],
   "source": [
    "df.to_csv(\"quotes.csv\", index=False)\n",
    "print(\"Quotes saved to quotes.csv\")"
   ]
  }
 ],
 "metadata": {
  "kernelspec": {
   "display_name": "Python [conda env:base] *",
   "language": "python",
   "name": "conda-base-py"
  },
  "language_info": {
   "codemirror_mode": {
    "name": "ipython",
    "version": 3
   },
   "file_extension": ".py",
   "mimetype": "text/x-python",
   "name": "python",
   "nbconvert_exporter": "python",
   "pygments_lexer": "ipython3",
   "version": "3.12.7"
  }
 },
 "nbformat": 4,
 "nbformat_minor": 5
}
