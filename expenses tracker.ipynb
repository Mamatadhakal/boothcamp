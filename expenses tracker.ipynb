{
 "cells": [
  {
   "cell_type": "code",
   "execution_count": 1,
   "id": "b8cf53ee-b3cd-4d5e-b719-4866d8f2fd82",
   "metadata": {},
   "outputs": [],
   "source": [
    "import csv\n",
    "import pandas as pd"
   ]
  },
  {
   "cell_type": "code",
   "execution_count": null,
   "id": "a1cc678a-0aa1-4cd3-aa41-62014c8de6f6",
   "metadata": {},
   "outputs": [],
   "source": [
    "# Run this cell to add an expense\n",
    "\n",
    "date = input(\"Enter date (YYYY-MM-DD): \")\n",
    "description = input(\"Enter description: \")\n",
    "amount = input(\"Enter amount: \")\n",
    "\n",
    "# Open CSV in append mode\n",
    "with open('expenses.csv', mode='a', newline='') as file:\n",
    "    writer = csv.writer(file)\n",
    "    writer.writerow([date, description, amount])\n",
    "\n",
    "print(\"Expense added successfully!\")"
   ]
  },
  {
   "cell_type": "code",
   "execution_count": null,
   "id": "c46383d6-0887-4776-bacb-0677a86910de",
   "metadata": {},
   "outputs": [],
   "source": [
    "# Run this cell to see all expenses\n",
    "\n",
    "try:\n",
    "    df = pd.read_csv('expenses.csv', header=None, names=['Date', 'Description', 'Amount'])\n",
    "    display(df)\n",
    "except FileNotFoundError:\n",
    "    print(\"No expenses recorded yet.\")"
   ]
  },
  {
   "cell_type": "code",
   "execution_count": null,
   "id": "aa9f4db7-cf88-4579-aa15-84fca333b2f1",
   "metadata": {},
   "outputs": [],
   "source": [
    "# Run this cell to see total spending\n",
    "\n",
    "try:\n",
    "    df = pd.read_csv('expenses.csv', header=None, names=['Date', 'Description', 'Amount'])\n",
    "    df['Amount'] = pd.to_numeric(df['Amount'], errors='coerce')\n",
    "    total = df['Amount'].sum()\n",
    "    print(f\"Total spending: ${total:.2f}\")\n",
    "except FileNotFoundError:\n",
    "    print(\"No expenses recorded yet.\")"
   ]
  }
 ],
 "metadata": {
  "kernelspec": {
   "display_name": "Python [conda env:base] *",
   "language": "python",
   "name": "conda-base-py"
  },
  "language_info": {
   "codemirror_mode": {
    "name": "ipython",
    "version": 3
   },
   "file_extension": ".py",
   "mimetype": "text/x-python",
   "name": "python",
   "nbconvert_exporter": "python",
   "pygments_lexer": "ipython3",
   "version": "3.12.7"
  }
 },
 "nbformat": 4,
 "nbformat_minor": 5
}
