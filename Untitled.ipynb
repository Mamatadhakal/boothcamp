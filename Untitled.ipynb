{
 "cells": [
  {
   "cell_type": "code",
   "execution_count": null,
   "id": "de0901ba-24ab-4e60-91c1-81da5681f9b5",
   "metadata": {},
   "outputs": [],
   "source": [
    "# Simple Voting Eligibility Check\n",
    "# Ask the user for their age\n",
    "age = int(input(\"Please enter your age: \"))\n",
    "\n",
    "# Check if the user is at least 18 years old\n",
    "if age >= 18:\n",
    "    print(\"You are eligible to vote.\")\n",
    "else:\n",
    "    print(\"You are not eligible to vote yet.\")"
   ]
  },
  {
   "cell_type": "code",
   "execution_count": null,
   "id": "01ef0096-2f6e-4a5a-b65e-617ef3e33828",
   "metadata": {},
   "outputs": [],
   "source": []
  }
 ],
 "metadata": {
  "kernelspec": {
   "display_name": "Python [conda env:base] *",
   "language": "python",
   "name": "conda-base-py"
  },
  "language_info": {
   "codemirror_mode": {
    "name": "ipython",
    "version": 3
   },
   "file_extension": ".py",
   "mimetype": "text/x-python",
   "name": "python",
   "nbconvert_exporter": "python",
   "pygments_lexer": "ipython3",
   "version": "3.12.7"
  }
 },
 "nbformat": 4,
 "nbformat_minor": 5
}
